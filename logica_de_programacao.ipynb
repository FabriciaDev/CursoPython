{
  "nbformat": 4,
  "nbformat_minor": 0,
  "metadata": {
    "colab": {
      "provenance": [],
      "toc_visible": true,
      "authorship_tag": "ABX9TyNSaJXmTcWJHtplmZ3l7049",
      "include_colab_link": true
    },
    "kernelspec": {
      "name": "python3",
      "display_name": "Python 3"
    },
    "language_info": {
      "name": "python"
    }
  },
  "cells": [
    {
      "cell_type": "markdown",
      "metadata": {
        "id": "view-in-github",
        "colab_type": "text"
      },
      "source": [
        "<a href=\"https://colab.research.google.com/github/FabriciaDev/CursoPython/blob/main/logica_de_programacao.ipynb\" target=\"_parent\"><img src=\"https://colab.research.google.com/assets/colab-badge.svg\" alt=\"Open In Colab\"/></a>"
      ]
    },
    {
      "cell_type": "markdown",
      "source": [
        " # **Lógica de programação com Python:**"
      ],
      "metadata": {
        "id": "6xpkbBynR6J-"
      }
    },
    {
      "cell_type": "code",
      "source": [
        "1 + 1"
      ],
      "metadata": {
        "colab": {
          "base_uri": "https://localhost:8080/"
        },
        "id": "P9_exzJqSaEk",
        "outputId": "66db1e06-59f9-40fe-a0ba-2d8c8339e6b6"
      },
      "execution_count": null,
      "outputs": [
        {
          "output_type": "execute_result",
          "data": {
            "text/plain": [
              "2"
            ]
          },
          "metadata": {},
          "execution_count": 9
        }
      ]
    },
    {
      "cell_type": "code",
      "source": [
        "nome = 'Guilherme'"
      ],
      "metadata": {
        "id": "VQY9SMg0So3l"
      },
      "execution_count": null,
      "outputs": []
    },
    {
      "cell_type": "code",
      "source": [
        "idade = 28"
      ],
      "metadata": {
        "id": "OqlB5LBCTg3A"
      },
      "execution_count": null,
      "outputs": []
    },
    {
      "cell_type": "code",
      "source": [
        "print('O nome é Guilherme e sua idade é 28 anos')"
      ],
      "metadata": {
        "colab": {
          "base_uri": "https://localhost:8080/"
        },
        "id": "61H_J94XUTkS",
        "outputId": "c48b385c-7700-473d-dd05-5fd89260d134"
      },
      "execution_count": null,
      "outputs": [
        {
          "output_type": "stream",
          "name": "stdout",
          "text": [
            "O nome é Guilherme e sua idade é 28 anos\n"
          ]
        }
      ]
    },
    {
      "cell_type": "markdown",
      "source": [
        "*Mas e se quisermos exibir o conteúdo armazenado na variável, e não apenas \"Guilherme\"? Para isso, acrescentaremos um \"f\" e deixar as funções entre chaves.*"
      ],
      "metadata": {
        "id": "9JYW3RwcUfiR"
      }
    },
    {
      "cell_type": "code",
      "source": [
        "print(f'O nome é {nome} e sua idade é {idade} anos')"
      ],
      "metadata": {
        "colab": {
          "base_uri": "https://localhost:8080/"
        },
        "id": "qcRUvfTMTjq1",
        "outputId": "509e7f82-78f8-46eb-8822-f6b7a9119c02"
      },
      "execution_count": null,
      "outputs": [
        {
          "output_type": "stream",
          "name": "stdout",
          "text": [
            "O nome é Guilherme e sua idade é 28 anos\n"
          ]
        }
      ]
    },
    {
      "cell_type": "markdown",
      "source": [
        "# Criando minha primeira função"
      ],
      "metadata": {
        "id": "CFzDSF0GVXeN"
      }
    },
    {
      "cell_type": "markdown",
      "source": [
        " *Ao iniciarmos a escrita da função, logo após os dois pontos, será criado um espaço na célula para organizar a orientação da escrita. Essa orientação é muito importante pois ela ditará o funcionamento do nosso código.*\n",
        "\n",
        "*Nossa função se dará da seguinte maneira, a partir do input \"qual é o seu nome\" deveremos retornar com o valor da variável nome, que configuramos anteriormente.*"
      ],
      "metadata": {
        "id": "s_TjJH71WMqu"
      }
    },
    {
      "cell_type": "code",
      "source": [
        "def saudacao():\n",
        "  nome = input('Qual o seu nome?')\n",
        "  print(f'olá {nome}')"
      ],
      "metadata": {
        "id": "i3CO0JasVbXk"
      },
      "execution_count": null,
      "outputs": []
    },
    {
      "cell_type": "code",
      "source": [
        "saudacao()"
      ],
      "metadata": {
        "colab": {
          "base_uri": "https://localhost:8080/"
        },
        "id": "_GwBvMMiXGS1",
        "outputId": "bc4f1897-d3a7-4a12-d84f-e865c382dd5b"
      },
      "execution_count": null,
      "outputs": [
        {
          "output_type": "stream",
          "name": "stdout",
          "text": [
            "Qual o seu nome?Fabi\n",
            "olá Fabi\n"
          ]
        }
      ]
    },
    {
      "cell_type": "code",
      "source": [
        "print(\"Hello World\")"
      ],
      "metadata": {
        "colab": {
          "base_uri": "https://localhost:8080/"
        },
        "id": "QH5jZ-NoXgDg",
        "outputId": "6521f2a6-9d8c-4163-b657-722ad482b00f"
      },
      "execution_count": null,
      "outputs": [
        {
          "output_type": "stream",
          "name": "stdout",
          "text": [
            "Hello World\n"
          ]
        }
      ]
    },
    {
      "cell_type": "markdown",
      "source": [
        "# Função nome completo"
      ],
      "metadata": {
        "id": "GjJ1yESkZBkl"
      }
    },
    {
      "cell_type": "code",
      "source": [
        "def nome_completo():\n",
        " primeiro_nome = input('Qual seu primeiro nome? ')\n",
        " sobrenome = input('Qual seu sobrenome? ')\n",
        " nome_inteiro = primeiro_nome + ' ' + sobrenome\n",
        " print(nome_inteiro)\n",
        "\n",
        "nome_completo()\n"
      ],
      "metadata": {
        "colab": {
          "base_uri": "https://localhost:8080/"
        },
        "id": "71vkyCk9Xiiu",
        "outputId": "8327bc5a-a299-4310-b22e-5c3dac1e8cb2"
      },
      "execution_count": null,
      "outputs": [
        {
          "output_type": "stream",
          "name": "stdout",
          "text": [
            "Qual seu primeiro nome? Fabricia\n",
            "Qual seu sobrenome? Mendes Martins\n",
            "Fabricia Mendes Martins\n"
          ]
        }
      ]
    },
    {
      "cell_type": "code",
      "source": [
        "nome = 'Luiza'"
      ],
      "metadata": {
        "id": "Duzx_SvQbThm"
      },
      "execution_count": null,
      "outputs": []
    },
    {
      "cell_type": "markdown",
      "source": [
        "# Parametros"
      ],
      "metadata": {
        "id": "6H_WFejQdoHg"
      }
    },
    {
      "cell_type": "markdown",
      "source": [
        "*E agora trabalharemos em nossa função, que chamaremos de saudacao_com_parametros(). Dentro dos () conseguimos incluir valores a serem utilizados para o funcionamento desta função.*\n",
        "*A função foi criada, agora toda a vez que a evocarmos ela espera como parâmetro a variável nome_da_pessoa.*\n",
        "\n",
        "**Parâmetros são argumentos localizados fora do escopo da função, mas que podem ser utilizados por ela.**"
      ],
      "metadata": {
        "id": "SFYgIql-bvYr"
      }
    },
    {
      "cell_type": "code",
      "source": [
        "def saudacao_com_parametros(nome_da_pessoa):\n",
        "  print(f'Olá {nome_da_pessoa}')"
      ],
      "metadata": {
        "id": "XYHDhSucbVkX"
      },
      "execution_count": null,
      "outputs": []
    },
    {
      "cell_type": "code",
      "source": [
        "saudacao_com_parametros(nome)"
      ],
      "metadata": {
        "colab": {
          "base_uri": "https://localhost:8080/"
        },
        "id": "Cu21GC9rbiZ0",
        "outputId": "42b4322b-8cfd-4f2f-d659-10326423bcd7"
      },
      "execution_count": null,
      "outputs": [
        {
          "output_type": "stream",
          "name": "stdout",
          "text": [
            "Olá Luiza\n"
          ]
        }
      ]
    },
    {
      "cell_type": "markdown",
      "source": [
        "# Condicional"
      ],
      "metadata": {
        "id": "5A51ZL7aeX_f"
      }
    },
    {
      "cell_type": "code",
      "source": [
        "idade = 20"
      ],
      "metadata": {
        "id": "8xGEmeAieG4d"
      },
      "execution_count": null,
      "outputs": []
    },
    {
      "cell_type": "code",
      "source": [
        "idade = 15\n",
        "\n",
        "def verica_se_pode_dirigir(idade):\n",
        "  if idade >= 18:\n",
        "   print('Tem permissão para dirigir')\n",
        "  else:\n",
        "    print('Não tem permissão para dirigir')\n",
        "\n",
        "verica_se_pode_dirigir(idade)\n"
      ],
      "metadata": {
        "colab": {
          "base_uri": "https://localhost:8080/"
        },
        "id": "tgpmx9xzfKkF",
        "outputId": "819b36e8-9479-4606-b5c3-7e7785ef3058"
      },
      "execution_count": null,
      "outputs": [
        {
          "output_type": "stream",
          "name": "stdout",
          "text": [
            "Não tem permissão para dirigir\n"
          ]
        }
      ]
    },
    {
      "cell_type": "markdown",
      "source": [
        "*não esquecer que valores de input precisam ser tipados como inteiros se forem tratados como números*"
      ],
      "metadata": {
        "id": "fa7j3GgfgYZE"
      }
    },
    {
      "cell_type": "markdown",
      "source": [
        "# Parâmetros de uma função\n",
        "*Funções em Python são blocos de código que executarão algum tipo de tarefa ou manipulação de dados, podendo ou não receber: dados de entrada (parâmetros).*\n",
        "\n",
        "*Sabendo disso, crie uma função chamada verifica_se_pode_dirigir que recebe um parâmetro chamado idade e inclua uma condicional if para analisar se a idade é maior ou igual que 18 anos. Caso seja, exiba uma mensagem na tela dizendo que Tem permissão para dirigir. Senão(else), exiba a mensagem Não tem permissão para dirigir. Depois de executar, crie a mesma função sem parâmetros, que armazena a idade digitada pelo usuário ou usuária. Como todo valor digitado através do teclado é uma string, não esqueça de converter a idade com o código int(idade).*\n"
      ],
      "metadata": {
        "id": "xwv4SqFDvHVD"
      }
    },
    {
      "cell_type": "code",
      "source": [
        "def verifica_se_pode_dirigir(idade):\n",
        "  if idade >= 18:\n",
        "    print('Tem permissão para dirigir')\n",
        "  else:\n",
        "    print('Não tem permissão para dirigir')"
      ],
      "metadata": {
        "id": "kRCj9kyuxYs9"
      },
      "execution_count": null,
      "outputs": []
    },
    {
      "cell_type": "code",
      "source": [
        "idade = 10\n",
        "verifica_se_pode_dirigir(idade)"
      ],
      "metadata": {
        "colab": {
          "base_uri": "https://localhost:8080/"
        },
        "id": "agj8VzMUxhWp",
        "outputId": "c0f98870-a648-4e27-981b-9d77efb9d4d4"
      },
      "execution_count": null,
      "outputs": [
        {
          "output_type": "stream",
          "name": "stdout",
          "text": [
            "Não tem permissão para dirigir\n"
          ]
        }
      ]
    },
    {
      "cell_type": "code",
      "source": [
        "def verifica_se_pode_dirigir_sem_parametros():\n",
        "  idade = input('Qual sua idade? ')\n",
        "  idade = int(idade)\n",
        "  if idade >= 18:\n",
        "    print('Tem permissão para dirigir')\n",
        "  else:\n",
        "    print('Não tem permissão para dirigir')\n",
        "\n",
        "verifica_se_pode_dirigir_sem_parametros()"
      ],
      "metadata": {
        "colab": {
          "base_uri": "https://localhost:8080/"
        },
        "id": "J6tdMG9Yxol-",
        "outputId": "3a01df5e-4898-4f08-f889-9adf84af7bc1"
      },
      "execution_count": null,
      "outputs": [
        {
          "output_type": "stream",
          "name": "stdout",
          "text": [
            "Qual sua idade? 12\n",
            "Não tem permissão para dirigir\n"
          ]
        }
      ]
    },
    {
      "cell_type": "markdown",
      "source": [
        "![operadores_Py.png](data:image/png;base64,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)"
      ],
      "metadata": {
        "id": "zIz4bgzKyrMM"
      }
    },
    {
      "cell_type": "markdown",
      "source": [
        "# Listas"
      ],
      "metadata": {
        "id": "TueW7ZqGzAk_"
      }
    },
    {
      "cell_type": "code",
      "source": [
        "idade = 20\n",
        "type(idade)"
      ],
      "metadata": {
        "colab": {
          "base_uri": "https://localhost:8080/"
        },
        "id": "_an7-f760JAA",
        "outputId": "b8b5c49e-98c7-4f5b-83cc-df28316c4070"
      },
      "execution_count": null,
      "outputs": [
        {
          "output_type": "execute_result",
          "data": {
            "text/plain": [
              "int"
            ]
          },
          "metadata": {},
          "execution_count": 11
        }
      ]
    },
    {
      "cell_type": "code",
      "source": [
        "nome = \"Guilherme\"\n",
        "type(nome)"
      ],
      "metadata": {
        "colab": {
          "base_uri": "https://localhost:8080/"
        },
        "id": "M-H0u32i0caW",
        "outputId": "061b5f98-3baf-4d86-b1a7-c95e23817424"
      },
      "execution_count": null,
      "outputs": [
        {
          "output_type": "execute_result",
          "data": {
            "text/plain": [
              "str"
            ]
          },
          "metadata": {},
          "execution_count": 12
        }
      ]
    },
    {
      "cell_type": "code",
      "source": [
        "idades = [18, 22, 15, 50 ]\n",
        "idades[2]"
      ],
      "metadata": {
        "colab": {
          "base_uri": "https://localhost:8080/"
        },
        "id": "jKvoJx_u0nju",
        "outputId": "8640e158-d3b4-45dc-9bfa-8b18622cfe28"
      },
      "execution_count": 1,
      "outputs": [
        {
          "output_type": "execute_result",
          "data": {
            "text/plain": [
              "15"
            ]
          },
          "metadata": {},
          "execution_count": 1
        }
      ]
    },
    {
      "cell_type": "markdown",
      "source": [
        "![lista_Posicao.png](data:image/png;base64,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)"
      ],
      "metadata": {
        "id": "_dgTVbEX1PQh"
      }
    },
    {
      "cell_type": "code",
      "source": [
        "idades[0:2]"
      ],
      "metadata": {
        "colab": {
          "base_uri": "https://localhost:8080/"
        },
        "id": "hnnLmnT9007I",
        "outputId": "8b0ef031-60cd-43c3-e3e9-ee586ade945d"
      },
      "execution_count": null,
      "outputs": [
        {
          "output_type": "execute_result",
          "data": {
            "text/plain": [
              "[18, 22]"
            ]
          },
          "metadata": {},
          "execution_count": 14
        }
      ]
    },
    {
      "cell_type": "code",
      "source": [
        "idades[0:3]"
      ],
      "metadata": {
        "colab": {
          "base_uri": "https://localhost:8080/"
        },
        "id": "wl1AI_DA10na",
        "outputId": "b6b7d872-cffa-4ac5-81c6-5cf41c290706"
      },
      "execution_count": null,
      "outputs": [
        {
          "output_type": "execute_result",
          "data": {
            "text/plain": [
              "[18, 22, 15]"
            ]
          },
          "metadata": {},
          "execution_count": 15
        }
      ]
    },
    {
      "cell_type": "code",
      "source": [
        "idades[1:]"
      ],
      "metadata": {
        "colab": {
          "base_uri": "https://localhost:8080/"
        },
        "id": "AV0J7OhT1_v-",
        "outputId": "b79e00d0-9104-4765-e96a-ffcf8313ce7e"
      },
      "execution_count": null,
      "outputs": [
        {
          "output_type": "execute_result",
          "data": {
            "text/plain": [
              "[22, 15, 50]"
            ]
          },
          "metadata": {},
          "execution_count": 16
        }
      ]
    },
    {
      "cell_type": "code",
      "source": [
        "idades[-1]"
      ],
      "metadata": {
        "colab": {
          "base_uri": "https://localhost:8080/"
        },
        "id": "kZyR0AYM2Lf5",
        "outputId": "a69c9cf4-71e3-4bc5-f69e-0a3f862c5763"
      },
      "execution_count": null,
      "outputs": [
        {
          "output_type": "execute_result",
          "data": {
            "text/plain": [
              "50"
            ]
          },
          "metadata": {},
          "execution_count": 18
        }
      ]
    },
    {
      "cell_type": "markdown",
      "source": [
        "![lista_Posicao_2.png](data:image/png;base64,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)"
      ],
      "metadata": {
        "id": "qix7_sFs2UcG"
      }
    },
    {
      "cell_type": "markdown",
      "source": [
        "# Laços e Loop"
      ],
      "metadata": {
        "id": "FVGoN8CN2wXm"
      }
    },
    {
      "cell_type": "code",
      "source": [
        "idades = [18, 22, 15, 50 ]"
      ],
      "metadata": {
        "id": "bM3YOM5B03V2"
      },
      "execution_count": 9,
      "outputs": []
    },
    {
      "cell_type": "code",
      "source": [
        "def verifica_se_pode_dirigir(idade):\n",
        "  if idade >= 18:\n",
        "    print(f'{idade} anos de idade, TEM permissão para dirigir')\n",
        "  else:\n",
        "    print(f'{idade} anos de idade, NÃO TEM permissão para dirigir')"
      ],
      "metadata": {
        "id": "f_KEdTiI2PYP"
      },
      "execution_count": 2,
      "outputs": []
    },
    {
      "cell_type": "code",
      "source": [
        "# for fora da função\n",
        "\n",
        "def verifica_se_pode_dirigir(idade):\n",
        "  if idade >= 18:\n",
        "    print(f'{idade} anos de idade, TEM permissão para dirigir')\n",
        "  else:\n",
        "    print(f'{idade} anos de idade, NÃO TEM permissão para dirigir')\n",
        "\n",
        "for idade in idades:\n",
        "  verifica_se_pode_dirigir(idade)"
      ],
      "metadata": {
        "colab": {
          "base_uri": "https://localhost:8080/"
        },
        "id": "zhCQVtoizHnk",
        "outputId": "c34f6f46-a99b-4a2a-cc52-097e2bc1b361"
      },
      "execution_count": 11,
      "outputs": [
        {
          "output_type": "stream",
          "name": "stdout",
          "text": [
            "18 anos de idade, TEM permissão para dirigir\n",
            "22 anos de idade, TEM permissão para dirigir\n",
            "15 anos de idade, NÃO TEM permissão para dirigir\n",
            "50 anos de idade, TEM permissão para dirigir\n"
          ]
        }
      ]
    },
    {
      "cell_type": "code",
      "source": [
        "# for dentro da funcao\n",
        "\n",
        "def verifica_se_pode_dirigir(idades):\n",
        "  for idade in idades:\n",
        "    if idade >= 18:\n",
        "      print(f'{idade} anos de idade, TEM permissão para dirigir')\n",
        "    else:\n",
        "      print(f'{idade} anos de idade, NÃO TEM permissão para dirigir')\n",
        "\n",
        "verifica_se_pode_dirigir(idades)"
      ],
      "metadata": {
        "colab": {
          "base_uri": "https://localhost:8080/"
        },
        "id": "UNywGZvS1O7m",
        "outputId": "83f17032-2082-415a-80ce-c8607f8c4ee4"
      },
      "execution_count": 13,
      "outputs": [
        {
          "output_type": "stream",
          "name": "stdout",
          "text": [
            "18 anos de idade, TEM permissão para dirigir\n",
            "22 anos de idade, TEM permissão para dirigir\n",
            "15 anos de idade, NÃO TEM permissão para dirigir\n",
            "50 anos de idade, TEM permissão para dirigir\n"
          ]
        }
      ]
    },
    {
      "cell_type": "markdown",
      "source": [
        "# Boaleano"
      ],
      "metadata": {
        "id": "ePG7fqhK2He_"
      }
    },
    {
      "cell_type": "code",
      "source": [
        "idade = 18\n",
        "idade >= 18"
      ],
      "metadata": {
        "colab": {
          "base_uri": "https://localhost:8080/"
        },
        "id": "AboWa5_q2PIs",
        "outputId": "2b1df078-455f-4bec-c372-66a521ed3d61"
      },
      "execution_count": 14,
      "outputs": [
        {
          "output_type": "execute_result",
          "data": {
            "text/plain": [
              "True"
            ]
          },
          "metadata": {},
          "execution_count": 14
        }
      ]
    },
    {
      "cell_type": "code",
      "source": [
        "idade = 15\n",
        "idade >= 18"
      ],
      "metadata": {
        "colab": {
          "base_uri": "https://localhost:8080/"
        },
        "id": "blDhFWuj2dDd",
        "outputId": "f9be0bd3-2251-41d5-fa0f-fb56fe782fa1"
      },
      "execution_count": 15,
      "outputs": [
        {
          "output_type": "execute_result",
          "data": {
            "text/plain": [
              "False"
            ]
          },
          "metadata": {},
          "execution_count": 15
        }
      ]
    },
    {
      "cell_type": "markdown",
      "source": [
        "*Queremos realizar uma verificação, em seguida adicionar os valores true na lista permissoes, e para isso utilizaremos o appends(). Caso a idade não atenda os requisitos para o estado True. Ela irá armazenar os valores comoFalse.*"
      ],
      "metadata": {
        "id": "iJNG6llF3Gi4"
      }
    },
    {
      "cell_type": "code",
      "source": [
        "permissoes = []\n",
        "idades = [20, 14, 40]\n",
        "\n",
        "def verifica_se_pode_dirigir(idades, permissoes):\n",
        "    for idade in idades:\n",
        "      if idade >= 18:\n",
        "          permissoes.append(True)\n",
        "      else:\n",
        "          permissoes.append(False)\n",
        "\n",
        "verifica_se_pode_dirigir(idades, permissoes)"
      ],
      "metadata": {
        "id": "fGekQ_N42w8G"
      },
      "execution_count": 18,
      "outputs": []
    },
    {
      "cell_type": "code",
      "source": [
        "permissoes"
      ],
      "metadata": {
        "colab": {
          "base_uri": "https://localhost:8080/"
        },
        "id": "EzA1IFDO3QbZ",
        "outputId": "2506f073-bad1-4986-8d83-271e7138a098"
      },
      "execution_count": 19,
      "outputs": [
        {
          "output_type": "execute_result",
          "data": {
            "text/plain": [
              "[True, False, True]"
            ]
          },
          "metadata": {},
          "execution_count": 19
        }
      ]
    },
    {
      "cell_type": "code",
      "source": [
        "for permissao in permissoes:\n",
        "  if permissao == True:\n",
        "    print('Tem permissão para dirigir')\n",
        "  else:\n",
        "    print('Não tem permissão para dirigir')"
      ],
      "metadata": {
        "colab": {
          "base_uri": "https://localhost:8080/"
        },
        "id": "qAL0c0Iq4Jnl",
        "outputId": "07ab7d72-928c-416f-ff46-6deb97ecedc4"
      },
      "execution_count": 20,
      "outputs": [
        {
          "output_type": "stream",
          "name": "stdout",
          "text": [
            "Tem permissão para dirigir\n",
            "Não tem permissão para dirigir\n",
            "Tem permissão para dirigir\n"
          ]
        }
      ]
    },
    {
      "cell_type": "markdown",
      "source": [
        "# Tipos de uma Lista"
      ],
      "metadata": {
        "id": "AqYEBq605tM1"
      }
    },
    {
      "cell_type": "code",
      "source": [
        "lista = ['Guilherme', 28, True, '18']\n",
        "\n",
        "for elemento in lista:\n",
        "  print(f'O elemento {elemento} é do tipo: ', type(elemento))"
      ],
      "metadata": {
        "colab": {
          "base_uri": "https://localhost:8080/"
        },
        "id": "6FnYSGS951BN",
        "outputId": "136fc554-0583-4610-c376-5d487a8c0974"
      },
      "execution_count": 21,
      "outputs": [
        {
          "output_type": "stream",
          "name": "stdout",
          "text": [
            "O elemento Guilherme é do tipo:  <class 'str'>\n",
            "O elemento 28 é do tipo:  <class 'int'>\n",
            "O elemento True é do tipo:  <class 'bool'>\n",
            "O elemento 18 é do tipo:  <class 'str'>\n"
          ]
        }
      ]
    },
    {
      "cell_type": "markdown",
      "source": [
        "# Imports"
      ],
      "metadata": {
        "id": "rQ9uNLP17xwU"
      }
    },
    {
      "cell_type": "code",
      "source": [
        "from random import randrange, seed"
      ],
      "metadata": {
        "id": "-R0apDF46HKm"
      },
      "execution_count": 34,
      "outputs": []
    },
    {
      "cell_type": "code",
      "source": [
        "seed(10)\n"
      ],
      "metadata": {
        "id": "YOruIELo9u3F"
      },
      "execution_count": 35,
      "outputs": []
    },
    {
      "cell_type": "code",
      "source": [
        "randrange(0,11)"
      ],
      "metadata": {
        "colab": {
          "base_uri": "https://localhost:8080/"
        },
        "id": "drzkz_sJ8T6E",
        "outputId": "4abec411-e8ad-48ff-a00a-bf1ed19f1912"
      },
      "execution_count": 36,
      "outputs": [
        {
          "output_type": "execute_result",
          "data": {
            "text/plain": [
              "9"
            ]
          },
          "metadata": {},
          "execution_count": 36
        }
      ]
    },
    {
      "cell_type": "code",
      "source": [
        "notas_matematica = []\n",
        "\n",
        "for notas in range(8):\n",
        "    notas_matematica.append([randrange(0,11)])\n",
        "\n",
        "notas_matematica\n"
      ],
      "metadata": {
        "colab": {
          "base_uri": "https://localhost:8080/"
        },
        "id": "BItg1hd88dDU",
        "outputId": "b27b9a35-1a63-498c-8a11-ba18b509661d"
      },
      "execution_count": 39,
      "outputs": [
        {
          "output_type": "execute_result",
          "data": {
            "text/plain": [
              "[[4], [10], [2], [0], [8], [7], [5], [1]]"
            ]
          },
          "metadata": {},
          "execution_count": 39
        }
      ]
    },
    {
      "cell_type": "code",
      "source": [
        "len(notas_matematica)"
      ],
      "metadata": {
        "colab": {
          "base_uri": "https://localhost:8080/"
        },
        "id": "55nHSRZG8hye",
        "outputId": "236f22cf-93c0-4818-978e-ddcf3790ee0d"
      },
      "execution_count": 38,
      "outputs": [
        {
          "output_type": "execute_result",
          "data": {
            "text/plain": [
              "8"
            ]
          },
          "metadata": {},
          "execution_count": 38
        }
      ]
    },
    {
      "cell_type": "markdown",
      "source": [
        "# Matplotlib"
      ],
      "metadata": {
        "id": "hCba5621Epgt"
      }
    },
    {
      "cell_type": "code",
      "source": [
        "import matplotlib.pyplot as plt"
      ],
      "metadata": {
        "id": "Aw6f3sH-9L2n"
      },
      "execution_count": 40,
      "outputs": []
    },
    {
      "cell_type": "code",
      "source": [
        "x = list(range(1,9))\n",
        "x"
      ],
      "metadata": {
        "colab": {
          "base_uri": "https://localhost:8080/"
        },
        "id": "-TKGKLsQGmxv",
        "outputId": "a0328853-2e04-4e18-92c7-29163876afc1"
      },
      "execution_count": 41,
      "outputs": [
        {
          "output_type": "execute_result",
          "data": {
            "text/plain": [
              "[1, 2, 3, 4, 5, 6, 7, 8]"
            ]
          },
          "metadata": {},
          "execution_count": 41
        }
      ]
    },
    {
      "cell_type": "code",
      "source": [
        "y = notas_matematica\n",
        "y"
      ],
      "metadata": {
        "colab": {
          "base_uri": "https://localhost:8080/"
        },
        "id": "NkNW3h_oGqKs",
        "outputId": "48b46338-c4cd-4ee6-e637-fea53040e180"
      },
      "execution_count": 42,
      "outputs": [
        {
          "output_type": "execute_result",
          "data": {
            "text/plain": [
              "[[4], [10], [2], [0], [8], [7], [5], [1]]"
            ]
          },
          "metadata": {},
          "execution_count": 42
        }
      ]
    },
    {
      "cell_type": "code",
      "source": [
        "x = list(range(1,9))\n",
        "y = notas_matematica\n",
        "plt.plot(x, y)"
      ],
      "metadata": {
        "colab": {
          "base_uri": "https://localhost:8080/",
          "height": 447
        },
        "id": "aJI9uCgHGvdE",
        "outputId": "f0600395-888c-4aa7-dcff-ff1da81f7cb9"
      },
      "execution_count": 44,
      "outputs": [
        {
          "output_type": "execute_result",
          "data": {
            "text/plain": [
              "[<matplotlib.lines.Line2D at 0x7d5bef506e00>]"
            ]
          },
          "metadata": {},
          "execution_count": 44
        },
        {
          "output_type": "display_data",
          "data": {
            "text/plain": [
              "<Figure size 640x480 with 1 Axes>"
            ],
            "image/png": "[encoded data removed]"
          },
          "metadata": {}
        }
      ]
    },
    {
      "cell_type": "code",
      "source": [
        "x = list(range(1,9))\n",
        "y = notas_matematica\n",
        "plt.plot(x, y)\n",
        "plt.title('Notas de matemática')"
      ],
      "metadata": {
        "colab": {
          "base_uri": "https://localhost:8080/",
          "height": 469
        },
        "id": "6c00NMI9HOos",
        "outputId": "8dcacb45-9a78-4f86-ed0d-2a67a4d857af"
      },
      "execution_count": 45,
      "outputs": [
        {
          "output_type": "execute_result",
          "data": {
            "text/plain": [
              "Text(0.5, 1.0, 'Notas de matemática')"
            ]
          },
          "metadata": {},
          "execution_count": 45
        },
        {
          "output_type": "display_data",
          "data": {
            "text/plain": [
              "<Figure size 640x480 with 1 Axes>"
            ],
            "image/png": "[encoded data removed]"
          },
          "metadata": {}
        }
      ]
    },
    {
      "cell_type": "code",
      "source": [
        "x = list(range(1,9))\n",
        "y = notas_matematica\n",
        "plt.plot(x, y)\n",
        "plt.title('Notas de matemática')\n",
        "plt.show()"
      ],
      "metadata": {
        "colab": {
          "base_uri": "https://localhost:8080/",
          "height": 452
        },
        "id": "wf5KWC80HQLs",
        "outputId": "2d41e94e-e975-4b4f-f96b-61604406ab89"
      },
      "execution_count": 46,
      "outputs": [
        {
          "output_type": "display_data",
          "data": {
            "text/plain": [
              "<Figure size 640x480 with 1 Axes>"
            ],
            "image/png": "[encoded data removed]"
          },
          "metadata": {}
        }
      ]
    },
    {
      "cell_type": "code",
      "source": [
        "x = list(range(1,9))\n",
        "y = notas_matematica\n",
        "plt.plot(x, y)\n",
        "plt.title('Notas de matemática')\n",
        "plt.xlabel('Provas')\n",
        "plt.ylabel('Notas')\n",
        "plt.show()"
      ],
      "metadata": {
        "colab": {
          "base_uri": "https://localhost:8080/",
          "height": 472
        },
        "id": "Y6J-KNuGHVpd",
        "outputId": "7bf4e03f-dbc6-4cbb-b550-fb321292b611"
      },
      "execution_count": 47,
      "outputs": [
        {
          "output_type": "display_data",
          "data": {
            "text/plain": [
              "<Figure size 640x480 with 1 Axes>"
            ],
            "image/png": "[encoded data removed]"
          },
          "metadata": {}
        }
      ]
    },
    {
      "cell_type": "code",
      "source": [
        "x = list(range(1,9))\n",
        "y = notas_matematica\n",
        "plt.plot(x, y, marker='o')\n",
        "plt.title('Notas de matemática')\n",
        "plt.xlabel('Provas')\n",
        "plt.ylabel('Notas')\n",
        "plt.show()"
      ],
      "metadata": {
        "colab": {
          "base_uri": "https://localhost:8080/",
          "height": 472
        },
        "id": "GR3kcLOmHgy9",
        "outputId": "3a304057-af82-45fe-ab6f-09ec0f1a8a3a"
      },
      "execution_count": 48,
      "outputs": [
        {
          "output_type": "display_data",
          "data": {
            "text/plain": [
              "<Figure size 640x480 with 1 Axes>"
            ],
            "image/png": "[encoded data removed]"
          },
          "metadata": {}
        }
      ]
    },
    {
      "cell_type": "code",
      "source": [],
      "metadata": {
        "id": "09_Ryg4DHtTH"
      },
      "execution_count": null,
      "outputs": []
    }
  ]
}